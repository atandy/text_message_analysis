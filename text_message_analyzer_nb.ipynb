{
 "cells": [
  {
   "cell_type": "code",
   "execution_count": 29,
   "metadata": {
    "collapsed": false
   },
   "outputs": [
    {
     "name": "stdout",
     "output_type": "stream",
     "text": [
      "Populating the interactive namespace from numpy and matplotlib\n"
     ]
    },
    {
     "name": "stderr",
     "output_type": "stream",
     "text": [
      "WARNING: pylab import has clobbered these variables: ['f']\n",
      "`%matplotlib` prevents importing * from pylab and numpy\n"
     ]
    }
   ],
   "source": [
    "import sqlite3\n",
    "import pandas as pd\n",
    "import nltk\n",
    "import datetime\n",
    "import re\n",
    "\n",
    "pd.set_option('display.width', 1000)\n",
    "# plot within the notebook\n",
    "%pylab inline \n",
    "\n",
    "#/Library/Application Support/MobileSync/Backup/d68a00b1faac8ed4cab3d6bec36ea7b05d284ddd\n",
    "# Read about getting this file here: http://osxdaily.com/2010/07/08/read-iphone-sms-backup/\n",
    "\n",
    "# connect to the text messages db file.\n",
    "conn = sqlite3.connect('3d0d7e5fb2ce288813306e4d4636395e047a3d28')\n",
    "c = conn.cursor()\n",
    "\n",
    "\n",
    "def getMessageDF():\n",
    "    ''' get all messages from the message table.\n",
    "        return a pandas dataframe.'''\n",
    "    message_table_cols = ['guid', 'service',\n",
    "                          'text', 'date', \n",
    "                          'date_delivered', \n",
    "                          'handle_id', 'type', \n",
    "                          'is_read','is_sent',\n",
    "                          'is_delivered','item_type',\n",
    "                          'group_title']\n",
    "    message_table_cols_str = ','.join(map(str, message_table_cols))\n",
    "    res = c.execute(\"SELECT %s FROM message\" % message_table_cols_str)\n",
    "    message_df = pd.DataFrame(res.fetchall())\n",
    "    message_df.columns = message_table_cols\n",
    "    return message_df\n",
    "\n",
    "message_df = getMessageDF()"
   ]
  },
  {
   "cell_type": "code",
   "execution_count": 30,
   "metadata": {
    "collapsed": false
   },
   "outputs": [],
   "source": [
    "## WRANGLE THE DATA AND CATEGORIZE IT ##\n",
    "\n",
    "# turn all messages into a list, and then convert it to a giant str corpus. \n",
    "ALL_MESSAGES_LIST = message_df.text.tolist()\n",
    "ALL_MESSAGES_STR= ','.join([x.lower() for x in ALL_MESSAGES_LIST if x is not None]) \n",
    "\n",
    "def  getTokensAndPOS():\n",
    "    ''' for all messages, grouped as a single str,\n",
    "        get the tokens and the parts of speech of each word'''\n",
    "    tokens = nltk.word_tokenize(ALL_MESSAGES_STR)\n",
    "    #TODO: fix count of tokens.\n",
    "    pos_tags = nltk.pos_tag(tokens)\n",
    "\n",
    "    return tokens, pos_tags\n",
    "\n",
    "tokens, pos_tags = getTokensAndPOS()\n",
    "\n",
    "def getMasterWords():\n",
    "    '''get the list of master words to perform the analysis on'''\n",
    "\n",
    "    # parts_of_speech that we don't care about because they're kind of boring.\n",
    "    dont_care_about = ['IN','CC','DT','RB']\n",
    "\n",
    "    # remove boring stuff.\n",
    "    for index, item in enumerate(pos_tags):\n",
    "        if item[1] in dont_care_about:\n",
    "            pos_tags.pop(index)\n",
    "\n",
    "    # assemble word list from POS list. take words where word > 2 characters\n",
    "    word_list = [tag[0] for tag in pos_tags if len(tag[0]) > 2]\n",
    "    master_words_tuple = nltk.FreqDist(word_list).most_common()\n",
    "    return master_words_tuple\n",
    "\n",
    "master_words_tuple = getMasterWords()\n",
    "\n",
    "## CREATE MASTER WORDS DATAFRAME. ##\n",
    "# create a dataframe with the master_words_tuple. the tuple included the frequency it was used.\n",
    "master_words_set_df = pd.DataFrame(master_words_tuple,columns=['word','count_times'])\n",
    "master_words_set_df['pct_of_total'] = (master_words_set_df.count_times / len(master_words_set_df)) * 100"
   ]
  },
  {
   "cell_type": "code",
   "execution_count": 31,
   "metadata": {
    "collapsed": false
   },
   "outputs": [
    {
     "name": "stdout",
     "output_type": "stream",
     "text": [
      "Total text messages in dataset: 65378\n",
      "Total words before filtering: 367132\n",
      "Total words after filtering: 23936\n"
     ]
    }
   ],
   "source": [
    "### GENERAL DATASET INFO ###\n",
    "print \"Total text messages in dataset: {}\".format(len(message_df.text))\n",
    "print \"Total words before filtering: {}\".format(len(pos_tags))\n",
    "print \"Total words after filtering: {}\".format(len(master_words_tuple))"
   ]
  },
  {
   "cell_type": "code",
   "execution_count": 13,
   "metadata": {
    "collapsed": false
   },
   "outputs": [],
   "source": [
    "### BAD WORDS ANALYSIS ###\n",
    "with open('bad_words.txt', 'r') as f:\n",
    "    bad_word_list = f.readlines()\n",
    "    bad_word_list = [word.strip('\\n') for word in bad_word_list]\n",
    "\n",
    "used_bad_words = []\n",
    "for entry in master_words_tuple:\n",
    "    if entry[0] in bad_word_list:\n",
    "        used_bad_words.append(entry)\n",
    "\n",
    "# bad words dataframe \n",
    "bad_words_df = pd.DataFrame(used_bad_words, columns=['word','count_times'])\n",
    "bad_words_df['pct_of_total'] = (bad_words_df.count_times / len(pos_tags)) * 100\n",
    "master_words_set_df['bad_word'] = master_words_set_df.word.apply(lambda x: 1 if x in bad_words_df.word.tolist() else 0)"
   ]
  },
  {
   "cell_type": "code",
   "execution_count": 14,
   "metadata": {
    "collapsed": false
   },
   "outputs": [],
   "source": [
    "# plot top 20 bad words. uncomment this !\n",
    "#bad_words_df[:20].plot(kind='barh', x='word',figsize=(10,5))"
   ]
  },
  {
   "cell_type": "code",
   "execution_count": 15,
   "metadata": {
    "collapsed": false
   },
   "outputs": [],
   "source": [
    "# slice the master dataframe by bad words. uncomment this!\n",
    "#master_words_set_df[master_words_set_df.bad_word==1].head()"
   ]
  },
  {
   "cell_type": "code",
   "execution_count": 16,
   "metadata": {
    "collapsed": true
   },
   "outputs": [],
   "source": [
    "## PARTS OF SPEECH ANALYSIS ##\n",
    "pos_dict = dict(pos_tags)\n",
    "\n",
    "master_words_set_df['pos'] = master_words_set_df.word.apply(lambda x: pos_dict[x])\n",
    "\n",
    "# create a mapping dictionary so we know what we are reading!\n",
    "POS_MAP_DICT = {'CC': ' conjunction, coordinating',\n",
    "                'CD': ' numeral, cardinal',\n",
    "                'DT': ' determiner',\n",
    "                'EX': ' existential there',\n",
    "                'FW': ' foreign word',\n",
    "                'IN': ' preposition or conjunction, subordinating',\n",
    "                'JJ': ' adjective or numeral, ordinal',\n",
    "                'JJR': ' adjective, comparative',\n",
    "                'JJS': ' adjective, superlative',\n",
    "                'LS': ' list item marker',\n",
    "                'MD': ' modal auxiliary',\n",
    "                'NN': ' noun, common, singular or mass',\n",
    "                'NNP': ' noun, proper, singular',\n",
    "                'NNPS': ' noun, proper, plural',\n",
    "                'NNS': ' noun, common, plural',\n",
    "                'PDT': ' pre-determiner',\n",
    "                'POS': ' genitive marker',\n",
    "                'PRP': ' pronoun, personal',\n",
    "                'PRP$': ' pronoun, possessive',\n",
    "                'RB': ' adverb',\n",
    "                'RBR': ' adverb, comparative',\n",
    "                'RBS': ' adverb, superlative',\n",
    "                'RP': ' particle',\n",
    "                'SYM': ' symbol',\n",
    "                'TO': ' \"to\" as preposition or infinitive marker',\n",
    "                'UH': ' interjection',\n",
    "                'VB': ' verb, base form',\n",
    "                'VBD': ' verb, past tense',\n",
    "                'VBG': ' verb, present participle or gerund',\n",
    "                'VBN': ' verb, past participle',\n",
    "                'VBP': ' verb, present tense, not 3rd person singular',\n",
    "                'VBZ': ' verb, present tense, 3rd person singular',\n",
    "                'WDT': ' WH-determiner',\n",
    "                'WP': ' WH-pronoun',\n",
    "                'WP$': ' WH-pronoun, possessive',\n",
    "                'WRB': ' Wh-adverb'}"
   ]
  },
  {
   "cell_type": "code",
   "execution_count": 17,
   "metadata": {
    "collapsed": false
   },
   "outputs": [],
   "source": [
    "master_words_set_df['pos_map'] = master_words_set_df.pos.apply(lambda x: POS_MAP_DICT[x] if x in POS_MAP_DICT else None)"
   ]
  },
  {
   "cell_type": "code",
   "execution_count": 18,
   "metadata": {
    "collapsed": false
   },
   "outputs": [
    {
     "data": {
      "text/html": [
       "<div style=\"max-height:1000px;max-width:1500px;overflow:auto;\">\n",
       "<table border=\"1\" class=\"dataframe\">\n",
       "  <thead>\n",
       "    <tr style=\"text-align: right;\">\n",
       "      <th></th>\n",
       "      <th>pos_count</th>\n",
       "    </tr>\n",
       "    <tr>\n",
       "      <th>pos_map</th>\n",
       "      <th></th>\n",
       "    </tr>\n",
       "  </thead>\n",
       "  <tbody>\n",
       "    <tr>\n",
       "      <th>noun, common, singular or mass</th>\n",
       "      <td>143</td>\n",
       "    </tr>\n",
       "    <tr>\n",
       "      <th>adjective or numeral, ordinal</th>\n",
       "      <td>45</td>\n",
       "    </tr>\n",
       "    <tr>\n",
       "      <th>noun, common, plural</th>\n",
       "      <td>25</td>\n",
       "    </tr>\n",
       "    <tr>\n",
       "      <th>verb, base form</th>\n",
       "      <td>19</td>\n",
       "    </tr>\n",
       "    <tr>\n",
       "      <th>verb, present tense, not 3rd person singular</th>\n",
       "      <td>16</td>\n",
       "    </tr>\n",
       "  </tbody>\n",
       "</table>\n",
       "</div>"
      ],
      "text/plain": [
       "                                               pos_count\n",
       "pos_map                                                 \n",
       " noun, common, singular or mass                      143\n",
       " adjective or numeral, ordinal                        45\n",
       " noun, common, plural                                 25\n",
       " verb, base form                                      19\n",
       " verb, present tense, not 3rd person singular         16"
      ]
     },
     "execution_count": 18,
     "metadata": {},
     "output_type": "execute_result"
    }
   ],
   "source": [
    "# get a dataframe with the counts of each part of speech\n",
    "pos_count_df = master_words_set_df.groupby(['pos_map'])\\\n",
    "                                    .agg({'pos_map':len})\\\n",
    "                                    .rename(columns={'pos_map':'pos_count'})\\\n",
    "                                    .sort('pos_count', ascending=False)\n",
    "pos_count_df.head()"
   ]
  },
  {
   "cell_type": "code",
   "execution_count": 19,
   "metadata": {
    "collapsed": false
   },
   "outputs": [],
   "source": [
    "## MESSAGE-BASED ANALYSIS. ##\n",
    "# information about the messages, their length, is_read, etc.\n",
    "\n",
    "# create conversion functions for the unix timestamps, which is the format stored in the SQLlite file.\n",
    "\n",
    "def getHumanReadableDateTime(unix_timestamp):\n",
    "    '''get human readable datetime from unix timestamp'''\n",
    "    return datetime.datetime.fromtimestamp(int(unix_timestamp)).strftime('%Y-%m-%d %H:%M:%S')\n",
    "\n",
    "def getHumanReadableDate(unix_timestamp):\n",
    "    '''get human readable date from unix timestamp'''\n",
    "    return datetime.datetime.fromtimestamp(int(unix_timestamp)).strftime('%Y-%m-%d')"
   ]
  },
  {
   "cell_type": "code",
   "execution_count": 20,
   "metadata": {
    "collapsed": false
   },
   "outputs": [],
   "source": [
    "# prepend a \"1\" to all date timestamps to make it a unix timestamp.\n",
    "# doesn't seem to yield correct results always, though.\n",
    "message_df['date'] = message_df.date.apply(lambda x: '1'+str(x))"
   ]
  },
  {
   "cell_type": "code",
   "execution_count": 21,
   "metadata": {
    "collapsed": false
   },
   "outputs": [],
   "source": [
    "message_df['datetime_readable'] = message_df.date.apply(getHumanReadableDateTime).astype('datetime64[ns]')\n",
    "message_df['date_readable'] = message_df.date.apply(getHumanReadableDate).astype('datetime64')"
   ]
  },
  {
   "cell_type": "code",
   "execution_count": 22,
   "metadata": {
    "collapsed": false
   },
   "outputs": [
    {
     "data": {
      "text/html": [
       "<div style=\"max-height:1000px;max-width:1500px;overflow:auto;\">\n",
       "<table border=\"1\" class=\"dataframe\">\n",
       "  <thead>\n",
       "    <tr style=\"text-align: right;\">\n",
       "      <th></th>\n",
       "      <th>guid</th>\n",
       "      <th>service</th>\n",
       "      <th>text</th>\n",
       "      <th>date</th>\n",
       "      <th>date_delivered</th>\n",
       "      <th>handle_id</th>\n",
       "      <th>type</th>\n",
       "      <th>is_read</th>\n",
       "      <th>is_sent</th>\n",
       "      <th>is_delivered</th>\n",
       "      <th>item_type</th>\n",
       "      <th>group_title</th>\n",
       "      <th>datetime_readable</th>\n",
       "      <th>date_readable</th>\n",
       "    </tr>\n",
       "  </thead>\n",
       "  <tbody>\n",
       "    <tr>\n",
       "      <th>0</th>\n",
       "      <td>658E46FD-77D1-8D84-34B8-5071DACF717C</td>\n",
       "      <td>SMS</td>\n",
       "      <td>Your wireless voicemail password has been rese...</td>\n",
       "      <td>1409344506</td>\n",
       "      <td>0</td>\n",
       "      <td>1</td>\n",
       "      <td>0</td>\n",
       "      <td>1</td>\n",
       "      <td>0</td>\n",
       "      <td>1</td>\n",
       "      <td>0</td>\n",
       "      <td>None</td>\n",
       "      <td>2014-08-29 20:35:06</td>\n",
       "      <td>2014-08-29</td>\n",
       "    </tr>\n",
       "    <tr>\n",
       "      <th>1</th>\n",
       "      <td>070D789D-3BF6-4EB3-B3A1-EF0E3CF56129</td>\n",
       "      <td>iMessage</td>\n",
       "      <td>Woot</td>\n",
       "      <td>1409345517</td>\n",
       "      <td>409345522</td>\n",
       "      <td>4</td>\n",
       "      <td>0</td>\n",
       "      <td>1</td>\n",
       "      <td>1</td>\n",
       "      <td>1</td>\n",
       "      <td>0</td>\n",
       "      <td>None</td>\n",
       "      <td>2014-08-29 20:51:57</td>\n",
       "      <td>2014-08-29</td>\n",
       "    </tr>\n",
       "    <tr>\n",
       "      <th>2</th>\n",
       "      <td>8C8D8A60-BFA7-4231-B769-AE5132CC38F0</td>\n",
       "      <td>iMessage</td>\n",
       "      <td>This thing is fast</td>\n",
       "      <td>1409345522</td>\n",
       "      <td>409345523</td>\n",
       "      <td>4</td>\n",
       "      <td>0</td>\n",
       "      <td>1</td>\n",
       "      <td>1</td>\n",
       "      <td>1</td>\n",
       "      <td>0</td>\n",
       "      <td>None</td>\n",
       "      <td>2014-08-29 20:52:02</td>\n",
       "      <td>2014-08-29</td>\n",
       "    </tr>\n",
       "    <tr>\n",
       "      <th>3</th>\n",
       "      <td>3CB41385-2464-4591-A724-29258A7D8F76</td>\n",
       "      <td>iMessage</td>\n",
       "      <td>New phone</td>\n",
       "      <td>1409346170</td>\n",
       "      <td>409346173</td>\n",
       "      <td>5</td>\n",
       "      <td>0</td>\n",
       "      <td>1</td>\n",
       "      <td>1</td>\n",
       "      <td>1</td>\n",
       "      <td>0</td>\n",
       "      <td>None</td>\n",
       "      <td>2014-08-29 21:02:50</td>\n",
       "      <td>2014-08-29</td>\n",
       "    </tr>\n",
       "    <tr>\n",
       "      <th>4</th>\n",
       "      <td>D7034D9E-D0A9-4612-BB72-3E2D3051E3EA</td>\n",
       "      <td>iMessage</td>\n",
       "      <td>👍👍👍</td>\n",
       "      <td>1409346560</td>\n",
       "      <td>0</td>\n",
       "      <td>5</td>\n",
       "      <td>0</td>\n",
       "      <td>1</td>\n",
       "      <td>0</td>\n",
       "      <td>1</td>\n",
       "      <td>0</td>\n",
       "      <td>None</td>\n",
       "      <td>2014-08-29 21:09:20</td>\n",
       "      <td>2014-08-29</td>\n",
       "    </tr>\n",
       "  </tbody>\n",
       "</table>\n",
       "</div>"
      ],
      "text/plain": [
       "                                   guid   service                                               text        date  date_delivered  handle_id  type  is_read  is_sent  is_delivered  item_type group_title   datetime_readable date_readable\n",
       "0  658E46FD-77D1-8D84-34B8-5071DACF717C       SMS  Your wireless voicemail password has been rese...  1409344506               0          1     0        1        0             1          0        None 2014-08-29 20:35:06    2014-08-29\n",
       "1  070D789D-3BF6-4EB3-B3A1-EF0E3CF56129  iMessage                                               Woot  1409345517       409345522          4     0        1        1             1          0        None 2014-08-29 20:51:57    2014-08-29\n",
       "2  8C8D8A60-BFA7-4231-B769-AE5132CC38F0  iMessage                                 This thing is fast  1409345522       409345523          4     0        1        1             1          0        None 2014-08-29 20:52:02    2014-08-29\n",
       "3  3CB41385-2464-4591-A724-29258A7D8F76  iMessage                                          New phone  1409346170       409346173          5     0        1        1             1          0        None 2014-08-29 21:02:50    2014-08-29\n",
       "4  D7034D9E-D0A9-4612-BB72-3E2D3051E3EA  iMessage                                             👍👍👍  1409346560               0          5     0        1        0             1          0        None 2014-08-29 21:09:20    2014-08-29"
      ]
     },
     "execution_count": 22,
     "metadata": {},
     "output_type": "execute_result"
    }
   ],
   "source": [
    "message_df.head()"
   ]
  },
  {
   "cell_type": "code",
   "execution_count": 23,
   "metadata": {
    "collapsed": false
   },
   "outputs": [],
   "source": [
    "# create a dataframe that counts the number of texts sent per day\n",
    "texts_per_day_df = message_df.groupby(['date_readable'])\\\n",
    "                             .agg({'text':len})\\\n",
    "                             .rename(columns={'text':'count_of_texts'})"
   ]
  },
  {
   "cell_type": "code",
   "execution_count": 24,
   "metadata": {
    "collapsed": false
   },
   "outputs": [
    {
     "data": {
      "text/plain": [
       "<matplotlib.axes.AxesSubplot at 0x114103e50>"
      ]
     },
     "execution_count": 24,
     "metadata": {},
     "output_type": "execute_result"
    },
    {
     "data": {
      "image/png": "[encoded data removed]",
      "text/plain": [
       "<matplotlib.figure.Figure at 0x114603250>"
      ]
     },
     "metadata": {},
     "output_type": "display_data"
    }
   ],
   "source": [
    "texts_per_day_df.plot(kind='line', figsize=(15,10))"
   ]
  },
  {
   "cell_type": "code",
   "execution_count": 25,
   "metadata": {
    "collapsed": false
   },
   "outputs": [
    {
     "data": {
      "text/html": [
       "<div style=\"max-height:1000px;max-width:1500px;overflow:auto;\">\n",
       "<table border=\"1\" class=\"dataframe\">\n",
       "  <thead>\n",
       "    <tr style=\"text-align: right;\">\n",
       "      <th></th>\n",
       "      <th>count_of_messages</th>\n",
       "    </tr>\n",
       "  </thead>\n",
       "  <tbody>\n",
       "    <tr>\n",
       "      <th>1</th>\n",
       "      <td>33052</td>\n",
       "    </tr>\n",
       "    <tr>\n",
       "      <th>0</th>\n",
       "      <td>32326</td>\n",
       "    </tr>\n",
       "  </tbody>\n",
       "</table>\n",
       "</div>"
      ],
      "text/plain": [
       "   count_of_messages\n",
       "1              33052\n",
       "0              32326"
      ]
     },
     "execution_count": 25,
     "metadata": {},
     "output_type": "execute_result"
    }
   ],
   "source": [
    "# Sent Versus Unsent. you sent is is_sent=1, you received is is_sent=0\n",
    "pd.DataFrame(message_df.is_sent.value_counts(), columns=['count_of_messages'])"
   ]
  },
  {
   "cell_type": "code",
   "execution_count": 26,
   "metadata": {
    "collapsed": false
   },
   "outputs": [],
   "source": [
    "# Get the Number of Words in Each Text Message\n",
    "message_df['message_length'] = message_df.text.apply(lambda x: len(re.findall(r\"[\\w']+\", x)) if x is not None else 0)"
   ]
  },
  {
   "cell_type": "code",
   "execution_count": 27,
   "metadata": {
    "collapsed": false
   },
   "outputs": [
    {
     "name": "stdout",
     "output_type": "stream",
     "text": [
      "The average length of messages I sent was 5.06277986204\n",
      "The average length of messages I received was 5.36868155664\n"
     ]
    }
   ],
   "source": [
    "# AVERAGE MESSAGE LENGTHS\n",
    "sent_msg_length_mean = message_df[message_df.is_sent==1].message_length.mean()\n",
    "received_msg_length_mean = message_df[message_df.is_sent==0].message_length.mean()\n",
    "print \"The average length of messages I sent was {}\".format(sent_msg_length_mean)\n",
    "print \"The average length of messages I received was {}\".format(received_msg_length_mean)"
   ]
  },
  {
   "cell_type": "code",
   "execution_count": 28,
   "metadata": {
    "collapsed": true
   },
   "outputs": [],
   "source": [
    "## Fields I found were useless: ##\n",
    "# country. message_df.country.unique(). array([None], dtype=object)\n",
    "# is_emote. message_df.is_emote.unique(). everything was array([0])\n",
    "# message_source. message_df.message_source.unique(). everything was array([0])\n",
    "# share_status: message_df.share_status.value_counts(). {0:46890,1:4}\n",
    "\n",
    "## Fields that were useful ##\n",
    "    # text. the message content from the text message.\n",
    "    # group_title. if you use groups, this is the assigned title of the group."
   ]
  },
  {
   "cell_type": "code",
   "execution_count": null,
   "metadata": {
    "collapsed": true
   },
   "outputs": [],
   "source": []
  }
 ],
 "metadata": {
  "kernelspec": {
   "display_name": "Python 2",
   "language": "python",
   "name": "python2"
  },
  "language_info": {
   "codemirror_mode": {
    "name": "ipython",
    "version": 2
   },
   "file_extension": ".py",
   "mimetype": "text/x-python",
   "name": "python",
   "nbconvert_exporter": "python",
   "pygments_lexer": "ipython2",
   "version": "2.7.6"
  }
 },
 "nbformat": 4,
 "nbformat_minor": 0
}
